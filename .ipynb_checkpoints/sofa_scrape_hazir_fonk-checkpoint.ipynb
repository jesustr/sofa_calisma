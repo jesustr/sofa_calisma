{
 "cells": [
  {
   "cell_type": "code",
   "execution_count": 1,
   "metadata": {},
   "outputs": [],
   "source": [
    "import os \n",
    "import pandas as pd \n",
    "# scrape edilenler ile txt dosyası arasındaki farklı linkleri gösterir. (df,txt_dosyasi,file_path'in sonlarını düzenle)\n",
    "\n",
    "def farkli_(json,txt):\n",
    "    df = pd.read_json(f'/Users/icy/Desktop/scrapping_scrapy_football/football/football/spiders/{json}.json')\n",
    "    txt_dosyasi = pd.read_csv(f'/Users/icy/Desktop/scrapping_scrapy_football/football/football/spiders/sofa_temiz_urls/{txt}.txt',header=None, names=['a'])  \n",
    "    txt_url = set(txt_dosyasi['a'])\n",
    "    df_url = set(df['match_link'])\n",
    "    \n",
    "    unique_to_x = txt_url - df_url\n",
    "    unique_to_y = df_url - txt_url\n",
    "\n",
    "    directory = '/Users/icy/Desktop/scrapping_scrapy_football/football/football/spiders/sofa_temiz_urls'\n",
    "    file_path = os.path.join(directory, f'{txt}_unscraped.txt')\n",
    "    matches_liste = list(unique_to_x)\n",
    "    with open(file_path, 'w') as file:\n",
    "        for url in matches_liste:\n",
    "            file.write(url + '\\n')\n",
    "    \n",
    "    print(f\"Unique to x: {len(unique_to_x)} URLs\\n\"\n",
    "          f\"Unique to y: {len(unique_to_y)} URLs\\n\"\n",
    "          f\"List unique to y: {list(unique_to_y)}\\n\"\n",
    "          f\"List unique to x: {list(unique_to_x)}\")\n",
    "\n",
    "# Örnek kullanım:\n",
    "# import pandas as pd\n",
    "# x = pd.DataFrame({'a': ['url1', 'url2', 'url3']})\n",
    "# y = pd.DataFrame({'match_link': ['url3', 'url4']})\n",
    "# farklı_urls(x, y)\n",
    "farkli_('firsthalf_goal','son_eksik_maclar')  #-> json,txt iki değer alır.\n"
   ]
  },
  {
   "cell_type": "code",
   "execution_count": null,
   "metadata": {},
   "outputs": [],
   "source": [
    "# ham veriye uyguladıklarım \n",
    "\n",
    "gerekli_orglar = ['Serie A','Super Lig','LaLiga','Bundesliga','Premier League','Ligue 1','Eredivisie',\n",
    "                'Liga Portugal Betclic',\n",
    "                'UEFA Champions League, Group E', 'UEFA Champions League, Group F','UEFA Champions League, Group G', \n",
    "                'UEFA Champions League, Group H','UEFA Champions League, Group A', 'UEFA Champions League, Group B',\n",
    "                'UEFA Champions League, Group C', 'UEFA Champions League, Group D','UEFA Champions League, Knockout stage']\n",
    "son_matches = son_matches[son_matches.Organizasyon.isin(gerekli_orglar)]\n",
    "son_matches = son_matches[~son_matches.Away_goal.isnull()]\n",
    "son_matches = son_matches[~(son_matches.Home_goal == 'Postponed')]\n",
    "son_matches = son_matches[~(son_matches.Home_goal == 'Canceled')]\n",
    "son_matches = son_matches[~son_matches.ulke.isin([ 'Russia', 'Austria','Singapore', 'Ghana', 'Bangladesh', 'Congo Republic'])]\n",
    "son_matches = son_matches[['date', 'hour', 'ulke', 'Organizasyon', 'Org_detay', 'Home_team','Away_team', 'Home_goal', 'Away_goal',\n",
    "'Ball possession_home','Ball possession_away','Total shots_home', 'Total shots_away','Corner kicks_home', 'Corner kicks_away',\n",
    "'Fouls_home', 'Fouls_away','Free kicks_home', 'Free kicks_away','Passes_home', 'Passes_away',\n",
    "'Yellow cards_home', 'Yellow cards_away', 'Red cards_home','Red cards_away','referee','red_card_avg','yellow_card_avg', \n",
    "'home_win_odd','draw_odd', 'away_win_odd','match_link']]\n",
    "son_matches.sort_values(by=['date','hour','Organizasyon'],ascending= False, inplace= True , ignore_index= True )\n"
   ]
  },
  {
   "cell_type": "code",
   "execution_count": null,
   "metadata": {},
   "outputs": [],
   "source": [
    "# DataFramei oluşturma\n",
    "year_list = ['2024_1','2023_2','2023_1','2022_2','2022_1','2021_2','2021_1','2020_2','2020_1',\n",
    "             '2019_2','2019_1','2018_2','2018_1','2017_2','2017_1']\n",
    "matches = pd.DataFrame()\n",
    "for year in year_list : \n",
    "    df = pd.read_json(f'/Users/icy/Desktop/scrapping_scrapy_football/football/football/spiders/matches_sofa{year}.json')\n",
    "    matches = pd.concat([matches,df], axis= 0)"
   ]
  },
  {
   "cell_type": "code",
   "execution_count": null,
   "metadata": {},
   "outputs": [],
   "source": [
    "# season_period, season_round columunu oluşturma /int /oluşturduktan sonra last_df_.csv oluşturur o an olanı yedekler.\n",
    "df_leagues = df[~(df.ulke == 'Europe')]\n",
    "df_leagues.loc[ : , 'season_round'] = df_leagues.org_detay.apply(lambda x: x[-2:]).astype(int)\n",
    "df_leagues = df_leagues[['match_link','season_round']]\n",
    "df_leagues.loc[df_leagues.season_round <= 9 , 'season_period'] = 1\n",
    "df_leagues.loc[(df_leagues.season_round > 9) & (df_leagues.season_round <= 18)  , 'season_period'] = 2\n",
    "df_leagues.loc[(df_leagues.season_round > 18) & (df_leagues.season_round <= 27)  , 'season_period'] = 3\n",
    "df_leagues.loc[(df_leagues.season_round >= 28)  , 'season_period'] = 4\n",
    "merged_df = pd.merge(df,df_leagues, on= 'match_link', how= 'left')\n",
    "merged_df = merged_df.drop_duplicates()\n",
    "merged_df = merged_df.fillna(0)\n",
    "merged_df.season_period = merged_df.season_period.astype(int)\n",
    "merged_df.season_round = merged_df.season_round.astype(int)\n",
    "merged_df.reset_index(drop= True, inplace= True)\n",
    "yedek_df = pd.read_csv('/Users/icy/Football_project/Footbal_project/csvler/last_df_.csv')\n",
    "yedek_df.to_csv('/Users/icy/Football_project/Footbal_project/csvler/last_df_yedek.csv')\n",
    "merged_df.to_csv('/Users/icy/Football_project/Footbal_project/csvler/last_df_.csv')"
   ]
  }
 ],
 "metadata": {
  "kernelspec": {
   "display_name": "Python 3 (ipykernel)",
   "language": "python",
   "name": "python3"
  },
  "language_info": {
   "codemirror_mode": {
    "name": "ipython",
    "version": 3
   },
   "file_extension": ".py",
   "mimetype": "text/x-python",
   "name": "python",
   "nbconvert_exporter": "python",
   "pygments_lexer": "ipython3",
   "version": "3.11.4"
  }
 },
 "nbformat": 4,
 "nbformat_minor": 2
}
