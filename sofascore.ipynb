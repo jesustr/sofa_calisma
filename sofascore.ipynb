{
 "cells": [
  {
   "cell_type": "code",
   "execution_count": 47,
   "metadata": {},
   "outputs": [],
   "source": [
    "import pandas as pd \n",
    "pd.set_option('display.max_colwidth', None) \n",
    "pd.set_option('display.max_columns', None)\n",
    "# df.to_csv('/Users/icy/Football_project/Footbal_project/csvler/blala.csv',index= False)\n",
    "# **** df_read = pd.read_csv('data.csv', parse_dates=['date']) CSV DOSYALARI DTYPE LARI TUTMAZ "
   ]
  },
  {
   "cell_type": "code",
   "execution_count": 13,
   "metadata": {},
   "outputs": [],
   "source": [
    "pd.set_option('display.max_colwidth', None)\n",
    "pd.set_option('display.max_columns', None)\n",
    "#pd.set_option('display.max_rows', None)\n",
    "#with pd.option_context('display.max_colwidth', None, 'display.max_rows', None):\n",
    "#pd.reset_option('display.max_rows')"
   ]
  },
  {
   "cell_type": "code",
   "execution_count": 81,
   "metadata": {},
   "outputs": [],
   "source": [
    "# haftalık verileri alırken lazım olcak.\n",
    "last_merged_df['Total shots_home_secondhalf'] = last_merged_df['Total shots_home'] - last_merged_df['Total shots_home_firsthalf']\n",
    "last_merged_df['Total shots_away_secondhalf'] = last_merged_df['Total shots_away'] - last_merged_df['Total shots_away_firsthalf']\n",
    "last_merged_df['Shots on target_home_secondhalf'] = last_merged_df['Shots on target_home'] - last_merged_df['Shots on target_home_firsthalf']\n",
    "last_merged_df['Shots on target_away_secondhalf'] = last_merged_df['Shots on target_away'] - last_merged_df['Shots on target_away_firsthalf']\n",
    "last_merged_df['Shots inside box_home_secondhalf'] = last_merged_df['Shots inside box_home'] - last_merged_df['Shots inside box_home_firsthalf']\n",
    "last_merged_df['Shots inside box_away_secondhalf'] = last_merged_df['Shots inside box_away'] - last_merged_df['Shots inside box_away_firsthalf']\n",
    "last_merged_df['Shots outside box_home_secondhalf'] = last_merged_df['Shots outside box_home'] - last_merged_df['Shots outside box_home_firsthalf']\n",
    "last_merged_df['Shots outside box_away_secondhalf'] = last_merged_df['Shots outside box_away'] - last_merged_df['Shots outside box_away_firsthalf']\n",
    "last_merged_df['Corner kicks_home_secondhalf'] = last_merged_df['Corner kicks_home'] - last_merged_df['Corner kicks_home_firsthalf']\n",
    "last_merged_df['Corner kicks_away_secondhalf'] = last_merged_df['Corner kicks_away'] - last_merged_df['Corner kicks_away_firsthalf']\n",
    "last_merged_df['Passes_home_secondhalf'] = last_merged_df['Passes_home'] - last_merged_df['Passes_home_firsthalf']\n",
    "last_merged_df['Passes_away_secondhalf'] = last_merged_df['Passes_away'] - last_merged_df['Passes_away_firsthalf']\n",
    "last_merged_df['Yellow cards_home_secondhalf'] = last_merged_df['Yellow cards_home'] - last_merged_df['Yellow cards_home_firsthalf']\n",
    "last_merged_df['Yellow cards_away_secondhalf'] = last_merged_df['Yellow cards_away'] - last_merged_df['Yellow cards_away_firsthalf']\n",
    "last_merged_df['Red cards_home_secondhalf'] = last_merged_df['Red cards_home'] - last_merged_df['Red cards_home_firsthalf']\n",
    "last_merged_df['Red cards_away_secondhalf'] = last_merged_df['Red cards_away'] - last_merged_df['Red cards_away_firsthalf']\n",
    "last_merged_df['Free kicks_home_secondhalf'] = last_merged_df['Free kicks_home'] - last_merged_df['Free kicks_home_firsthalf']\n",
    "last_merged_df['Free kicks_away_secondhalf'] = last_merged_df['Free kicks_away'] - last_merged_df['Free kicks_away_firsthalf']"
   ]
  }
 ],
 "metadata": {
  "kernelspec": {
   "display_name": "myvenv",
   "language": "python",
   "name": "python3"
  },
  "language_info": {
   "codemirror_mode": {
    "name": "ipython",
    "version": 3
   },
   "file_extension": ".py",
   "mimetype": "text/x-python",
   "name": "python",
   "nbconvert_exporter": "python",
   "pygments_lexer": "ipython3",
   "version": "3.11.4"
  }
 },
 "nbformat": 4,
 "nbformat_minor": 2
}
