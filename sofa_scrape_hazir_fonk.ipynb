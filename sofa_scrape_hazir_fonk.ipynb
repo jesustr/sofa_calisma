{
 "cells": [
  {
   "cell_type": "code",
   "execution_count": 10,
   "metadata": {},
   "outputs": [
    {
     "name": "stdout",
     "output_type": "stream",
     "text": [
      "Unique to x: 3 URLs\n",
      "Unique to y: 0 URLs\n",
      "List unique to y: []\n",
      "List unique to x: ['https://www.sofascore.com/football/match/feyenoord-ajax/djbsjjb#id:12448324', 'https://www.sofascore.com/football/match/getafe-real-betis/qgbsjhb#id:12437661', 'https://www.sofascore.com/football/match/kayserispor-trabzonspor/blbsxlb#id:12528204']\n"
     ]
    }
   ],
   "source": [
    "import os \n",
    "import pandas as pd \n",
    "# scrape edilenler ile txt dosyası arasındaki farklı linkleri gösterir. (df,txt_dosyasi,file_path'in sonlarını düzenle)\n",
    "# bu fonksiyonu haftalik scrape ile daha duzenli tut\n",
    "def farkli_(json,txt):\n",
    "    df = pd.read_json(f'/Users/icy/Desktop/scrapping_scrapy_football/football/football/spiders/{json}.json')\n",
    "    txt_dosyasi = pd.read_csv(f'/Users/icy/Desktop/scrapping_scrapy_football/football/football/spiders/sofa_temiz_urls/{txt}.txt',header=None, names=['a'])  \n",
    "    txt_url = set(txt_dosyasi['a'])\n",
    "    df_url = set(df['match_link'])\n",
    "    \n",
    "    unique_to_x = txt_url - df_url\n",
    "    unique_to_y = df_url - txt_url\n",
    "\n",
    "    directory = '/Users/icy/Desktop/scrapping_scrapy_football/football/football/spiders/sofa_temiz_urls'\n",
    "    file_path = os.path.join(directory, f'{txt}_unscraped.txt')\n",
    "    matches_liste = list(unique_to_x)\n",
    "    with open(file_path, 'w') as file:\n",
    "        for url in matches_liste:\n",
    "            file.write(url + '\\n')\n",
    "    \n",
    "    print(f\"Unique to x: {len(unique_to_x)} URLs\\n\"\n",
    "          f\"Unique to y: {len(unique_to_y)} URLs\\n\"\n",
    "          f\"List unique to y: {list(unique_to_y)}\\n\"\n",
    "          f\"List unique to x: {list(unique_to_x)}\")\n",
    "\n",
    "# Örnek kullanım:\n",
    "# import pandas as pd\n",
    "# x = pd.DataFrame({'a': ['url1', 'url2', 'url3']})\n",
    "# y = pd.DataFrame({'match_link': ['url3', 'url4']})\n",
    "# farklı_urls(x, y)\n",
    "farkli_('week_matches_first_half','filtered_week_match_links')  #-> json,txt iki değer alır.\n"
   ]
  },
  {
   "cell_type": "code",
   "execution_count": 9,
   "metadata": {},
   "outputs": [
    {
     "ename": "NameError",
     "evalue": "name 'txt' is not defined",
     "output_type": "error",
     "traceback": [
      "\u001b[0;31m---------------------------------------------------------------------------\u001b[0m",
      "\u001b[0;31mNameError\u001b[0m                                 Traceback (most recent call last)",
      "Cell \u001b[0;32mIn[9], line 2\u001b[0m\n\u001b[1;32m      1\u001b[0m directory \u001b[38;5;241m=\u001b[39m \u001b[38;5;124m'\u001b[39m\u001b[38;5;124m/Users/icy/Desktop/scrapping_scrapy_football/football/football/spiders/sofa_temiz_urls\u001b[39m\u001b[38;5;124m'\u001b[39m\n\u001b[0;32m----> 2\u001b[0m file_path \u001b[38;5;241m=\u001b[39m os\u001b[38;5;241m.\u001b[39mpath\u001b[38;5;241m.\u001b[39mjoin(directory, \u001b[38;5;124mf\u001b[39m\u001b[38;5;124m'\u001b[39m\u001b[38;5;132;01m{\u001b[39;00m\u001b[43mtxt\u001b[49m\u001b[38;5;132;01m}\u001b[39;00m\u001b[38;5;124m_unscraped.txt\u001b[39m\u001b[38;5;124m'\u001b[39m)\n\u001b[1;32m      3\u001b[0m matches_liste \u001b[38;5;241m=\u001b[39m \u001b[38;5;28mlist\u001b[39m(unique_to_x)\n\u001b[1;32m      4\u001b[0m \u001b[38;5;28;01mwith\u001b[39;00m \u001b[38;5;28mopen\u001b[39m(file_path, \u001b[38;5;124m'\u001b[39m\u001b[38;5;124mw\u001b[39m\u001b[38;5;124m'\u001b[39m) \u001b[38;5;28;01mas\u001b[39;00m file:\n",
      "\u001b[0;31mNameError\u001b[0m: name 'txt' is not defined"
     ]
    }
   ],
   "source": [
    "directory = '/Users/icy/Desktop/scrapping_scrapy_football/football/football/spiders/sofa_temiz_urls'\n",
    "file_path = os.path.join(directory, f'{txt}_unscraped.txt')\n",
    "matches_liste = list(unique_to_x)\n",
    "with open(file_path, 'w') as file:\n",
    "    for url in matches_liste:\n",
    "        file.write(url + '\\n')"
   ]
  },
  {
   "cell_type": "code",
   "execution_count": null,
   "metadata": {},
   "outputs": [],
   "source": [
    "# Listeyi '|' ile birleştirerek regex pattern oluşturuyoruz\n",
    "pattern = '|'.join(listem)\n",
    "\n",
    "# Listedeki kelimelerden birinin geçtiği satırları filtreliyoruz\n",
    "filtered_df = df[df['url'].str.contains(pattern, case=False, na=False)]\n",
    "\n",
    "print(filtered_df)\n"
   ]
  }
 ],
 "metadata": {
  "kernelspec": {
   "display_name": "Python 3",
   "language": "python",
   "name": "python3"
  },
  "language_info": {
   "codemirror_mode": {
    "name": "ipython",
    "version": 3
   },
   "file_extension": ".py",
   "mimetype": "text/x-python",
   "name": "python",
   "nbconvert_exporter": "python",
   "pygments_lexer": "ipython3",
   "version": "3.12.0"
  }
 },
 "nbformat": 4,
 "nbformat_minor": 2
}
