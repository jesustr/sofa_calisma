{
 "cells": [
  {
   "cell_type": "code",
   "execution_count": 21,
   "metadata": {},
   "outputs": [
    {
     "name": "stdout",
     "output_type": "stream",
     "text": [
      "Unique to x: 10 URLs\n",
      "Unique to y: 0 URLs\n",
      "List unique to y: []\n",
      "List unique to x: ['https://www.sofascore.com/football/match/lincoln-red-imps-dinamo-minsk/lrbseBab#id:12634464', 'https://www.sofascore.com/football/match/hapoel-beer-sheva-mlada-boleslav/zUscec#id:12634457', 'https://www.sofascore.com/football/match/fk-vojvodina-nk-maribor/vYsadc#id:12634455', 'https://www.sofascore.com/football/match/fc-noah-aek-athens/apbsDUec#id:12634447', 'https://www.sofascore.com/football/match/wisla-krakow-fc-spartak-trnava/gYslmb#id:12634448', 'https://www.sofascore.com/football/match/sporting-braga-servette-fc/YYsZjb#id:12633700', 'https://www.sofascore.com/football/match/orenburg-lokomotiv-moscow/vWstHj#id:12453085', 'https://www.sofascore.com/football/match/sheriff-tiraspol-nk-olimpija-ljubljana/qYsydc#id:12634435', 'https://www.sofascore.com/football/match/panathinaikos-ajax/djbsYob#id:12634419', 'https://www.sofascore.com/football/match/trabzonspor-sk-rapid-wien/fQsblb#id:12634425']\n"
     ]
    }
   ],
   "source": [
    "import os \n",
    "import pandas as pd \n",
    "# scrape edilenler ile txt dosyası arasındaki farklı linkleri gösterir. (df,txt_dosyasi,file_path'in sonlarını düzenle)\n",
    "# bu fonksiyonu haftalik scrape ile daha duzenli tut\n",
    "def farkli_(json,txt):\n",
    "    df = pd.read_json(f'/Users/icy/Desktop/scrapping_scrapy_football/football/football/spiders/{json}.json')\n",
    "    txt_dosyasi = pd.read_csv(f'/Users/icy/Desktop/scrapping_scrapy_football/football/football/spiders/sofa_temiz_urls/{txt}.txt',header=None, names=['a'])  \n",
    "    txt_url = set(txt_dosyasi['a'])\n",
    "    df_url = set(df['match_link'])\n",
    "    \n",
    "    unique_to_x = txt_url - df_url\n",
    "    unique_to_y = df_url - txt_url\n",
    "\n",
    "    directory = '/Users/icy/Desktop/scrapping_scrapy_football/football/football/spiders/sofa_temiz_urls'\n",
    "    file_path = os.path.join(directory, f'{txt}_unscraped.txt')\n",
    "    matches_liste = list(unique_to_x)\n",
    "    with open(file_path, 'w') as file:\n",
    "        for url in matches_liste:\n",
    "            file.write(url + '\\n')\n",
    "    \n",
    "    print(f\"Unique to x: {len(unique_to_x)} URLs\\n\"\n",
    "          f\"Unique to y: {len(unique_to_y)} URLs\\n\"\n",
    "          f\"List unique to y: {list(unique_to_y)}\\n\"\n",
    "          f\"List unique to x: {list(unique_to_x)}\")\n",
    "\n",
    "# Örnek kullanım:\n",
    "# import pandas as pd\n",
    "# x = pd.DataFrame({'a': ['url1', 'url2', 'url3']})\n",
    "# y = pd.DataFrame({'match_link': ['url3', 'url4']})\n",
    "# farklı_urls(x, y)\n",
    "farkli_('week_matches_scrapehalf','filtered_week_match_links')  #-> json,txt iki değer alır.\n"
   ]
  },
  {
   "cell_type": "code",
   "execution_count": null,
   "metadata": {},
   "outputs": [],
   "source": [
    "directory = '/Users/icy/Desktop/scrapping_scrapy_football/football/football/spiders/sofa_temiz_urls'\n",
    "file_path = os.path.join(directory, f'{txt}_unscraped.txt')\n",
    "matches_liste = list(unique_to_x)\n",
    "with open(file_path, 'w') as file:\n",
    "    for url in matches_liste:\n",
    "        file.write(url + '\\n')"
   ]
  },
  {
   "cell_type": "code",
   "execution_count": null,
   "metadata": {},
   "outputs": [],
   "source": [
    "# Listeyi '|' ile birleştirerek regex pattern oluşturuyoruz\n",
    "pattern = '|'.join(listem)\n",
    "\n",
    "# Listedeki kelimelerden birinin geçtiği satırları filtreliyoruz\n",
    "filtered_df = df[df['url'].str.contains(pattern, case=False, na=False)]\n",
    "\n",
    "print(filtered_df)\n"
   ]
  }
 ],
 "metadata": {
  "kernelspec": {
   "display_name": "venv",
   "language": "python",
   "name": "venv"
  },
  "language_info": {
   "codemirror_mode": {
    "name": "ipython",
    "version": 3
   },
   "file_extension": ".py",
   "mimetype": "text/x-python",
   "name": "python",
   "nbconvert_exporter": "python",
   "pygments_lexer": "ipython3",
   "version": "3.11.4"
  }
 },
 "nbformat": 4,
 "nbformat_minor": 2
}
